{
 "cells": [
  {
   "cell_type": "code",
   "execution_count": 23,
   "metadata": {},
   "outputs": [],
   "source": [
    "import numpy as np\n",
    "import pandas as pd"
   ]
  },
  {
   "cell_type": "code",
   "execution_count": 6,
   "metadata": {},
   "outputs": [],
   "source": [
    "df = pd.read_csv(\"Output_prova2.csv\")"
   ]
  },
  {
   "cell_type": "code",
   "execution_count": 38,
   "metadata": {},
   "outputs": [
    {
     "data": {
      "text/html": [
       "<div>\n",
       "<style scoped>\n",
       "    .dataframe tbody tr th:only-of-type {\n",
       "        vertical-align: middle;\n",
       "    }\n",
       "\n",
       "    .dataframe tbody tr th {\n",
       "        vertical-align: top;\n",
       "    }\n",
       "\n",
       "    .dataframe thead th {\n",
       "        text-align: right;\n",
       "    }\n",
       "</style>\n",
       "<table border=\"1\" class=\"dataframe\">\n",
       "  <thead>\n",
       "    <tr style=\"text-align: right;\">\n",
       "      <th></th>\n",
       "      <th>1</th>\n",
       "      <th>2</th>\n",
       "      <th>3</th>\n",
       "      <th>4</th>\n",
       "      <th>5</th>\n",
       "      <th>6</th>\n",
       "      <th>7</th>\n",
       "      <th>8</th>\n",
       "      <th>9</th>\n",
       "      <th>10</th>\n",
       "      <th>...</th>\n",
       "      <th>682</th>\n",
       "      <th>683</th>\n",
       "      <th>684</th>\n",
       "      <th>685</th>\n",
       "      <th>686</th>\n",
       "      <th>687</th>\n",
       "      <th>688</th>\n",
       "      <th>689</th>\n",
       "      <th>690</th>\n",
       "      <th>691</th>\n",
       "    </tr>\n",
       "  </thead>\n",
       "  <tbody>\n",
       "    <tr>\n",
       "      <td>0</td>\n",
       "      <td>I</td>\n",
       "      <td>L</td>\n",
       "      <td>L</td>\n",
       "      <td>V</td>\n",
       "      <td>E</td>\n",
       "      <td>NaN</td>\n",
       "      <td>D</td>\n",
       "      <td>NaN</td>\n",
       "      <td>NaN</td>\n",
       "      <td>S</td>\n",
       "      <td>...</td>\n",
       "      <td>-</td>\n",
       "      <td>-</td>\n",
       "      <td>NaN</td>\n",
       "      <td>-</td>\n",
       "      <td>-</td>\n",
       "      <td>-</td>\n",
       "      <td>-</td>\n",
       "      <td>-</td>\n",
       "      <td>-</td>\n",
       "      <td>-</td>\n",
       "    </tr>\n",
       "    <tr>\n",
       "      <td>1</td>\n",
       "      <td>-</td>\n",
       "      <td>M</td>\n",
       "      <td>V</td>\n",
       "      <td>V</td>\n",
       "      <td>D</td>\n",
       "      <td>NaN</td>\n",
       "      <td>D</td>\n",
       "      <td>NaN</td>\n",
       "      <td>NaN</td>\n",
       "      <td>S</td>\n",
       "      <td>...</td>\n",
       "      <td>P</td>\n",
       "      <td>E</td>\n",
       "      <td>NaN</td>\n",
       "      <td>E</td>\n",
       "      <td>L</td>\n",
       "      <td>I</td>\n",
       "      <td>S</td>\n",
       "      <td>R</td>\n",
       "      <td>V</td>\n",
       "      <td>-</td>\n",
       "    </tr>\n",
       "    <tr>\n",
       "      <td>2</td>\n",
       "      <td>V</td>\n",
       "      <td>L</td>\n",
       "      <td>V</td>\n",
       "      <td>V</td>\n",
       "      <td>D</td>\n",
       "      <td>NaN</td>\n",
       "      <td>D</td>\n",
       "      <td>NaN</td>\n",
       "      <td>NaN</td>\n",
       "      <td>N</td>\n",
       "      <td>...</td>\n",
       "      <td>R</td>\n",
       "      <td>D</td>\n",
       "      <td>NaN</td>\n",
       "      <td>R</td>\n",
       "      <td>L</td>\n",
       "      <td>V</td>\n",
       "      <td>T</td>\n",
       "      <td>A</td>\n",
       "      <td>L</td>\n",
       "      <td>-</td>\n",
       "    </tr>\n",
       "    <tr>\n",
       "      <td>3</td>\n",
       "      <td>-</td>\n",
       "      <td>L</td>\n",
       "      <td>L</td>\n",
       "      <td>V</td>\n",
       "      <td>E</td>\n",
       "      <td>NaN</td>\n",
       "      <td>D</td>\n",
       "      <td>NaN</td>\n",
       "      <td>NaN</td>\n",
       "      <td>N</td>\n",
       "      <td>...</td>\n",
       "      <td>P</td>\n",
       "      <td>E</td>\n",
       "      <td>NaN</td>\n",
       "      <td>R</td>\n",
       "      <td>L</td>\n",
       "      <td>Y</td>\n",
       "      <td>G</td>\n",
       "      <td>A</td>\n",
       "      <td>L</td>\n",
       "      <td>-</td>\n",
       "    </tr>\n",
       "    <tr>\n",
       "      <td>4</td>\n",
       "      <td>I</td>\n",
       "      <td>L</td>\n",
       "      <td>I</td>\n",
       "      <td>V</td>\n",
       "      <td>D</td>\n",
       "      <td>NaN</td>\n",
       "      <td>D</td>\n",
       "      <td>NaN</td>\n",
       "      <td>NaN</td>\n",
       "      <td>Q</td>\n",
       "      <td>...</td>\n",
       "      <td>G</td>\n",
       "      <td>E</td>\n",
       "      <td>NaN</td>\n",
       "      <td>V</td>\n",
       "      <td>V</td>\n",
       "      <td>R</td>\n",
       "      <td>R</td>\n",
       "      <td>R</td>\n",
       "      <td>-</td>\n",
       "      <td>-</td>\n",
       "    </tr>\n",
       "    <tr>\n",
       "      <td>...</td>\n",
       "      <td>...</td>\n",
       "      <td>...</td>\n",
       "      <td>...</td>\n",
       "      <td>...</td>\n",
       "      <td>...</td>\n",
       "      <td>...</td>\n",
       "      <td>...</td>\n",
       "      <td>...</td>\n",
       "      <td>...</td>\n",
       "      <td>...</td>\n",
       "      <td>...</td>\n",
       "      <td>...</td>\n",
       "      <td>...</td>\n",
       "      <td>...</td>\n",
       "      <td>...</td>\n",
       "      <td>...</td>\n",
       "      <td>...</td>\n",
       "      <td>...</td>\n",
       "      <td>...</td>\n",
       "      <td>...</td>\n",
       "      <td>...</td>\n",
       "    </tr>\n",
       "    <tr>\n",
       "      <td>47796</td>\n",
       "      <td>-</td>\n",
       "      <td>L</td>\n",
       "      <td>L</td>\n",
       "      <td>L</td>\n",
       "      <td>E</td>\n",
       "      <td>NaN</td>\n",
       "      <td>R</td>\n",
       "      <td>NaN</td>\n",
       "      <td>NaN</td>\n",
       "      <td>S</td>\n",
       "      <td>...</td>\n",
       "      <td>I</td>\n",
       "      <td>R</td>\n",
       "      <td>NaN</td>\n",
       "      <td>D</td>\n",
       "      <td>L</td>\n",
       "      <td>V</td>\n",
       "      <td>T</td>\n",
       "      <td>T</td>\n",
       "      <td>I</td>\n",
       "      <td>-</td>\n",
       "    </tr>\n",
       "    <tr>\n",
       "      <td>47797</td>\n",
       "      <td>I</td>\n",
       "      <td>F</td>\n",
       "      <td>L</td>\n",
       "      <td>A</td>\n",
       "      <td>E</td>\n",
       "      <td>NaN</td>\n",
       "      <td>D</td>\n",
       "      <td>NaN</td>\n",
       "      <td>NaN</td>\n",
       "      <td>E</td>\n",
       "      <td>...</td>\n",
       "      <td>P</td>\n",
       "      <td>K</td>\n",
       "      <td>NaN</td>\n",
       "      <td>R</td>\n",
       "      <td>M</td>\n",
       "      <td>Y</td>\n",
       "      <td>M</td>\n",
       "      <td>-</td>\n",
       "      <td>-</td>\n",
       "      <td>-</td>\n",
       "    </tr>\n",
       "    <tr>\n",
       "      <td>47798</td>\n",
       "      <td>V</td>\n",
       "      <td>F</td>\n",
       "      <td>V</td>\n",
       "      <td>V</td>\n",
       "      <td>D</td>\n",
       "      <td>NaN</td>\n",
       "      <td>S</td>\n",
       "      <td>NaN</td>\n",
       "      <td>NaN</td>\n",
       "      <td>D</td>\n",
       "      <td>...</td>\n",
       "      <td>L</td>\n",
       "      <td>E</td>\n",
       "      <td>NaN</td>\n",
       "      <td>S</td>\n",
       "      <td>V</td>\n",
       "      <td>R</td>\n",
       "      <td>A</td>\n",
       "      <td>A</td>\n",
       "      <td>V</td>\n",
       "      <td>-</td>\n",
       "    </tr>\n",
       "    <tr>\n",
       "      <td>47799</td>\n",
       "      <td>-</td>\n",
       "      <td>L</td>\n",
       "      <td>I</td>\n",
       "      <td>I</td>\n",
       "      <td>D</td>\n",
       "      <td>NaN</td>\n",
       "      <td>D</td>\n",
       "      <td>NaN</td>\n",
       "      <td>NaN</td>\n",
       "      <td>M</td>\n",
       "      <td>...</td>\n",
       "      <td>-</td>\n",
       "      <td>-</td>\n",
       "      <td>NaN</td>\n",
       "      <td>-</td>\n",
       "      <td>-</td>\n",
       "      <td>-</td>\n",
       "      <td>-</td>\n",
       "      <td>-</td>\n",
       "      <td>-</td>\n",
       "      <td>-</td>\n",
       "    </tr>\n",
       "    <tr>\n",
       "      <td>47800</td>\n",
       "      <td>I</td>\n",
       "      <td>L</td>\n",
       "      <td>F</td>\n",
       "      <td>V</td>\n",
       "      <td>E</td>\n",
       "      <td>NaN</td>\n",
       "      <td>D</td>\n",
       "      <td>NaN</td>\n",
       "      <td>NaN</td>\n",
       "      <td>E</td>\n",
       "      <td>...</td>\n",
       "      <td>-</td>\n",
       "      <td>-</td>\n",
       "      <td>NaN</td>\n",
       "      <td>-</td>\n",
       "      <td>-</td>\n",
       "      <td>-</td>\n",
       "      <td>-</td>\n",
       "      <td>-</td>\n",
       "      <td>-</td>\n",
       "      <td>-</td>\n",
       "    </tr>\n",
       "  </tbody>\n",
       "</table>\n",
       "<p>47801 rows × 691 columns</p>\n",
       "</div>"
      ],
      "text/plain": [
       "       1  2  3  4  5    6  7    8    9 10  ... 682 683  684 685 686 687 688  \\\n",
       "0      I  L  L  V  E  NaN  D  NaN  NaN  S  ...   -   -  NaN   -   -   -   -   \n",
       "1      -  M  V  V  D  NaN  D  NaN  NaN  S  ...   P   E  NaN   E   L   I   S   \n",
       "2      V  L  V  V  D  NaN  D  NaN  NaN  N  ...   R   D  NaN   R   L   V   T   \n",
       "3      -  L  L  V  E  NaN  D  NaN  NaN  N  ...   P   E  NaN   R   L   Y   G   \n",
       "4      I  L  I  V  D  NaN  D  NaN  NaN  Q  ...   G   E  NaN   V   V   R   R   \n",
       "...   .. .. .. .. ..  ... ..  ...  ... ..  ...  ..  ..  ...  ..  ..  ..  ..   \n",
       "47796  -  L  L  L  E  NaN  R  NaN  NaN  S  ...   I   R  NaN   D   L   V   T   \n",
       "47797  I  F  L  A  E  NaN  D  NaN  NaN  E  ...   P   K  NaN   R   M   Y   M   \n",
       "47798  V  F  V  V  D  NaN  S  NaN  NaN  D  ...   L   E  NaN   S   V   R   A   \n",
       "47799  -  L  I  I  D  NaN  D  NaN  NaN  M  ...   -   -  NaN   -   -   -   -   \n",
       "47800  I  L  F  V  E  NaN  D  NaN  NaN  E  ...   -   -  NaN   -   -   -   -   \n",
       "\n",
       "      689 690 691  \n",
       "0       -   -   -  \n",
       "1       R   V   -  \n",
       "2       A   L   -  \n",
       "3       A   L   -  \n",
       "4       R   -   -  \n",
       "...    ..  ..  ..  \n",
       "47796   T   I   -  \n",
       "47797   -   -   -  \n",
       "47798   A   V   -  \n",
       "47799   -   -   -  \n",
       "47800   -   -   -  \n",
       "\n",
       "[47801 rows x 691 columns]"
      ]
     },
     "execution_count": 38,
     "metadata": {},
     "output_type": "execute_result"
    }
   ],
   "source": [
    "df"
   ]
  },
  {
   "cell_type": "code",
   "execution_count": 48,
   "metadata": {},
   "outputs": [],
   "source": [
    "df = df.replace('.',np.nan)\n",
    "df = df.replace('-',np.nan)"
   ]
  },
  {
   "cell_type": "code",
   "execution_count": 28,
   "metadata": {},
   "outputs": [
    {
     "name": "stdout",
     "output_type": "stream",
     "text": [
      "Requirement already satisfied: missingno in /home/jarnoesse/anaconda3/lib/python3.7/site-packages (0.5.0)\n",
      "Requirement already satisfied: scipy in /home/jarnoesse/anaconda3/lib/python3.7/site-packages (from missingno) (1.3.1)\n",
      "Requirement already satisfied: numpy in /home/jarnoesse/anaconda3/lib/python3.7/site-packages (from missingno) (1.17.2)\n",
      "Requirement already satisfied: matplotlib in /home/jarnoesse/anaconda3/lib/python3.7/site-packages (from missingno) (3.1.1)\n",
      "Requirement already satisfied: seaborn in /home/jarnoesse/anaconda3/lib/python3.7/site-packages (from missingno) (0.9.0)\n",
      "Requirement already satisfied: cycler>=0.10 in /home/jarnoesse/anaconda3/lib/python3.7/site-packages (from matplotlib->missingno) (0.10.0)\n",
      "Requirement already satisfied: kiwisolver>=1.0.1 in /home/jarnoesse/anaconda3/lib/python3.7/site-packages (from matplotlib->missingno) (1.1.0)\n",
      "Requirement already satisfied: pyparsing!=2.0.4,!=2.1.2,!=2.1.6,>=2.0.1 in /home/jarnoesse/anaconda3/lib/python3.7/site-packages (from matplotlib->missingno) (2.4.2)\n",
      "Requirement already satisfied: python-dateutil>=2.1 in /home/jarnoesse/anaconda3/lib/python3.7/site-packages (from matplotlib->missingno) (2.8.0)\n",
      "Requirement already satisfied: pandas>=0.15.2 in /home/jarnoesse/anaconda3/lib/python3.7/site-packages (from seaborn->missingno) (0.25.1)\n",
      "Requirement already satisfied: six in /home/jarnoesse/anaconda3/lib/python3.7/site-packages (from cycler>=0.10->matplotlib->missingno) (1.12.0)\n",
      "Requirement already satisfied: setuptools in /home/jarnoesse/anaconda3/lib/python3.7/site-packages (from kiwisolver>=1.0.1->matplotlib->missingno) (41.4.0)\n",
      "Requirement already satisfied: pytz>=2017.2 in /home/jarnoesse/anaconda3/lib/python3.7/site-packages (from pandas>=0.15.2->seaborn->missingno) (2019.3)\n"
     ]
    }
   ],
   "source": [
    "!pip install missingno"
   ]
  },
  {
   "cell_type": "code",
   "execution_count": 31,
   "metadata": {},
   "outputs": [],
   "source": [
    "import missingno as msno"
   ]
  },
  {
   "cell_type": "code",
   "execution_count": 49,
   "metadata": {},
   "outputs": [
    {
     "data": {
      "text/plain": [
       "<matplotlib.axes._subplots.AxesSubplot at 0x7eff07385710>"
      ]
     },
     "execution_count": 49,
     "metadata": {},
     "output_type": "execute_result"
    },
    {
     "data": {
      "image/png": "[encoded data removed]",
      "text/plain": [
       "<Figure size 1800x720 with 2 Axes>"
      ]
     },
     "metadata": {
      "needs_background": "light"
     },
     "output_type": "display_data"
    }
   ],
   "source": [
    "msno.matrix(df)"
   ]
  },
  {
   "cell_type": "code",
   "execution_count": 50,
   "metadata": {},
   "outputs": [
    {
     "data": {
      "text/plain": [
       "<matplotlib.axes._subplots.AxesSubplot at 0x7eff165ae050>"
      ]
     },
     "execution_count": 50,
     "metadata": {},
     "output_type": "execute_result"
    },
    {
     "data": {
      "image/png": "[encoded data removed]",
      "text/plain": [
       "<Figure size 1800x720 with 2 Axes>"
      ]
     },
     "metadata": {
      "needs_background": "light"
     },
     "output_type": "display_data"
    }
   ],
   "source": [
    "msno.matrix(df.iloc[0:20,640:690])"
   ]
  },
  {
   "cell_type": "code",
   "execution_count": 53,
   "metadata": {},
   "outputs": [],
   "source": [
    "columns = [647,654,661,666,672,674,677,680,681,682,684,685,686,687,688,689]"
   ]
  },
  {
   "cell_type": "code",
   "execution_count": 163,
   "metadata": {},
   "outputs": [],
   "source": [
    "W = df.iloc[0:20,columns]"
   ]
  },
  {
   "cell_type": "code",
   "execution_count": 167,
   "metadata": {},
   "outputs": [],
   "source": [
    "W = W.rename(columns={x:y for x,y in zip(W.columns,range(0,len(W.columns)))})"
   ]
  },
  {
   "cell_type": "code",
   "execution_count": 168,
   "metadata": {},
   "outputs": [
    {
     "data": {
      "text/plain": [
       "20"
      ]
     },
     "execution_count": 168,
     "metadata": {},
     "output_type": "execute_result"
    }
   ],
   "source": [
    "len(W)"
   ]
  },
  {
   "cell_type": "code",
   "execution_count": 169,
   "metadata": {},
   "outputs": [
    {
     "data": {
      "text/plain": [
       "16"
      ]
     },
     "execution_count": 169,
     "metadata": {},
     "output_type": "execute_result"
    }
   ],
   "source": [
    "len(W.columns)"
   ]
  },
  {
   "cell_type": "code",
   "execution_count": 170,
   "metadata": {},
   "outputs": [],
   "source": [
    "import random"
   ]
  },
  {
   "cell_type": "code",
   "execution_count": 172,
   "metadata": {},
   "outputs": [],
   "source": [
    "n = 8\n",
    "\n",
    "#generating random sequence\n",
    "indexes = random.sample(range(len(W.columns)),n)"
   ]
  },
  {
   "cell_type": "code",
   "execution_count": null,
   "metadata": {},
   "outputs": [],
   "source": []
  },
  {
   "cell_type": "code",
   "execution_count": 173,
   "metadata": {},
   "outputs": [],
   "source": [
    "#taking the subset of the dataframe\n",
    "smaller = W.iloc[:,indexes]\n",
    "#dropping nan rows\n",
    "smaller = smaller.dropna()"
   ]
  },
  {
   "cell_type": "code",
   "execution_count": 174,
   "metadata": {},
   "outputs": [],
   "source": [
    "#making the list to be evaluated by value_counts\n",
    "smaller['Combined']=smaller.values.tolist()"
   ]
  },
  {
   "cell_type": "code",
   "execution_count": 175,
   "metadata": {},
   "outputs": [],
   "source": [
    "#calculating the parameters for the Entropy\n",
    "#calculating k\n",
    "k = smaller['Combined'].value_counts()\n",
    "#calculating m\n",
    "m = k.value_counts()\n",
    "#calculating M\n",
    "M = k.sum()"
   ]
  },
  {
   "cell_type": "code",
   "execution_count": 176,
   "metadata": {},
   "outputs": [
    {
     "data": {
      "text/html": [
       "<div>\n",
       "<style scoped>\n",
       "    .dataframe tbody tr th:only-of-type {\n",
       "        vertical-align: middle;\n",
       "    }\n",
       "\n",
       "    .dataframe tbody tr th {\n",
       "        vertical-align: top;\n",
       "    }\n",
       "\n",
       "    .dataframe thead th {\n",
       "        text-align: right;\n",
       "    }\n",
       "</style>\n",
       "<table border=\"1\" class=\"dataframe\">\n",
       "  <thead>\n",
       "    <tr style=\"text-align: right;\">\n",
       "      <th></th>\n",
       "      <th>1</th>\n",
       "      <th>12</th>\n",
       "      <th>10</th>\n",
       "      <th>4</th>\n",
       "      <th>14</th>\n",
       "      <th>8</th>\n",
       "      <th>2</th>\n",
       "      <th>13</th>\n",
       "      <th>Combined</th>\n",
       "    </tr>\n",
       "  </thead>\n",
       "  <tbody>\n",
       "    <tr>\n",
       "      <td>1</td>\n",
       "      <td>Y</td>\n",
       "      <td>I</td>\n",
       "      <td>E</td>\n",
       "      <td>K</td>\n",
       "      <td>R</td>\n",
       "      <td>P</td>\n",
       "      <td>I</td>\n",
       "      <td>S</td>\n",
       "      <td>[Y, I, E, K, R, P, I, S]</td>\n",
       "    </tr>\n",
       "    <tr>\n",
       "      <td>2</td>\n",
       "      <td>C</td>\n",
       "      <td>V</td>\n",
       "      <td>R</td>\n",
       "      <td>K</td>\n",
       "      <td>A</td>\n",
       "      <td>R</td>\n",
       "      <td>L</td>\n",
       "      <td>T</td>\n",
       "      <td>[C, V, R, K, A, R, L, T]</td>\n",
       "    </tr>\n",
       "    <tr>\n",
       "      <td>3</td>\n",
       "      <td>F</td>\n",
       "      <td>Y</td>\n",
       "      <td>R</td>\n",
       "      <td>K</td>\n",
       "      <td>A</td>\n",
       "      <td>P</td>\n",
       "      <td>L</td>\n",
       "      <td>G</td>\n",
       "      <td>[F, Y, R, K, A, P, L, G]</td>\n",
       "    </tr>\n",
       "    <tr>\n",
       "      <td>4</td>\n",
       "      <td>Y</td>\n",
       "      <td>R</td>\n",
       "      <td>V</td>\n",
       "      <td>K</td>\n",
       "      <td>R</td>\n",
       "      <td>G</td>\n",
       "      <td>I</td>\n",
       "      <td>R</td>\n",
       "      <td>[Y, R, V, K, R, G, I, R]</td>\n",
       "    </tr>\n",
       "    <tr>\n",
       "      <td>5</td>\n",
       "      <td>Y</td>\n",
       "      <td>L</td>\n",
       "      <td>Q</td>\n",
       "      <td>K</td>\n",
       "      <td>A</td>\n",
       "      <td>K</td>\n",
       "      <td>L</td>\n",
       "      <td>D</td>\n",
       "      <td>[Y, L, Q, K, A, K, L, D]</td>\n",
       "    </tr>\n",
       "    <tr>\n",
       "      <td>6</td>\n",
       "      <td>C</td>\n",
       "      <td>Q</td>\n",
       "      <td>D</td>\n",
       "      <td>K</td>\n",
       "      <td>V</td>\n",
       "      <td>Q</td>\n",
       "      <td>I</td>\n",
       "      <td>D</td>\n",
       "      <td>[C, Q, D, K, V, Q, I, D]</td>\n",
       "    </tr>\n",
       "    <tr>\n",
       "      <td>7</td>\n",
       "      <td>C</td>\n",
       "      <td>K</td>\n",
       "      <td>Q</td>\n",
       "      <td>K</td>\n",
       "      <td>T</td>\n",
       "      <td>V</td>\n",
       "      <td>I</td>\n",
       "      <td>K</td>\n",
       "      <td>[C, K, Q, K, T, V, I, K]</td>\n",
       "    </tr>\n",
       "    <tr>\n",
       "      <td>8</td>\n",
       "      <td>I</td>\n",
       "      <td>E</td>\n",
       "      <td>V</td>\n",
       "      <td>K</td>\n",
       "      <td>T</td>\n",
       "      <td>L</td>\n",
       "      <td>V</td>\n",
       "      <td>E</td>\n",
       "      <td>[I, E, V, K, T, L, V, E]</td>\n",
       "    </tr>\n",
       "    <tr>\n",
       "      <td>9</td>\n",
       "      <td>C</td>\n",
       "      <td>Q</td>\n",
       "      <td>E</td>\n",
       "      <td>K</td>\n",
       "      <td>S</td>\n",
       "      <td>Q</td>\n",
       "      <td>I</td>\n",
       "      <td>Q</td>\n",
       "      <td>[C, Q, E, K, S, Q, I, Q]</td>\n",
       "    </tr>\n",
       "    <tr>\n",
       "      <td>10</td>\n",
       "      <td>Y</td>\n",
       "      <td>V</td>\n",
       "      <td>E</td>\n",
       "      <td>K</td>\n",
       "      <td>R</td>\n",
       "      <td>E</td>\n",
       "      <td>L</td>\n",
       "      <td>A</td>\n",
       "      <td>[Y, V, E, K, R, E, L, A]</td>\n",
       "    </tr>\n",
       "    <tr>\n",
       "      <td>11</td>\n",
       "      <td>F</td>\n",
       "      <td>L</td>\n",
       "      <td>Q</td>\n",
       "      <td>K</td>\n",
       "      <td>A</td>\n",
       "      <td>I</td>\n",
       "      <td>L</td>\n",
       "      <td>E</td>\n",
       "      <td>[F, L, Q, K, A, I, L, E]</td>\n",
       "    </tr>\n",
       "    <tr>\n",
       "      <td>12</td>\n",
       "      <td>F</td>\n",
       "      <td>V</td>\n",
       "      <td>E</td>\n",
       "      <td>K</td>\n",
       "      <td>R</td>\n",
       "      <td>G</td>\n",
       "      <td>V</td>\n",
       "      <td>T</td>\n",
       "      <td>[F, V, E, K, R, G, V, T]</td>\n",
       "    </tr>\n",
       "    <tr>\n",
       "      <td>13</td>\n",
       "      <td>W</td>\n",
       "      <td>F</td>\n",
       "      <td>L</td>\n",
       "      <td>K</td>\n",
       "      <td>S</td>\n",
       "      <td>E</td>\n",
       "      <td>V</td>\n",
       "      <td>Q</td>\n",
       "      <td>[W, F, L, K, S, E, V, Q]</td>\n",
       "    </tr>\n",
       "    <tr>\n",
       "      <td>15</td>\n",
       "      <td>Y</td>\n",
       "      <td>L</td>\n",
       "      <td>L</td>\n",
       "      <td>K</td>\n",
       "      <td>E</td>\n",
       "      <td>R</td>\n",
       "      <td>V</td>\n",
       "      <td>S</td>\n",
       "      <td>[Y, L, L, K, E, R, V, S]</td>\n",
       "    </tr>\n",
       "    <tr>\n",
       "      <td>18</td>\n",
       "      <td>F</td>\n",
       "      <td>E</td>\n",
       "      <td>A</td>\n",
       "      <td>K</td>\n",
       "      <td>V</td>\n",
       "      <td>P</td>\n",
       "      <td>L</td>\n",
       "      <td>T</td>\n",
       "      <td>[F, E, A, K, V, P, L, T]</td>\n",
       "    </tr>\n",
       "    <tr>\n",
       "      <td>19</td>\n",
       "      <td>Y</td>\n",
       "      <td>L</td>\n",
       "      <td>S</td>\n",
       "      <td>K</td>\n",
       "      <td>V</td>\n",
       "      <td>T</td>\n",
       "      <td>L</td>\n",
       "      <td>E</td>\n",
       "      <td>[Y, L, S, K, V, T, L, E]</td>\n",
       "    </tr>\n",
       "  </tbody>\n",
       "</table>\n",
       "</div>"
      ],
      "text/plain": [
       "    1 12 10  4 14  8  2 13                  Combined\n",
       "1   Y  I  E  K  R  P  I  S  [Y, I, E, K, R, P, I, S]\n",
       "2   C  V  R  K  A  R  L  T  [C, V, R, K, A, R, L, T]\n",
       "3   F  Y  R  K  A  P  L  G  [F, Y, R, K, A, P, L, G]\n",
       "4   Y  R  V  K  R  G  I  R  [Y, R, V, K, R, G, I, R]\n",
       "5   Y  L  Q  K  A  K  L  D  [Y, L, Q, K, A, K, L, D]\n",
       "6   C  Q  D  K  V  Q  I  D  [C, Q, D, K, V, Q, I, D]\n",
       "7   C  K  Q  K  T  V  I  K  [C, K, Q, K, T, V, I, K]\n",
       "8   I  E  V  K  T  L  V  E  [I, E, V, K, T, L, V, E]\n",
       "9   C  Q  E  K  S  Q  I  Q  [C, Q, E, K, S, Q, I, Q]\n",
       "10  Y  V  E  K  R  E  L  A  [Y, V, E, K, R, E, L, A]\n",
       "11  F  L  Q  K  A  I  L  E  [F, L, Q, K, A, I, L, E]\n",
       "12  F  V  E  K  R  G  V  T  [F, V, E, K, R, G, V, T]\n",
       "13  W  F  L  K  S  E  V  Q  [W, F, L, K, S, E, V, Q]\n",
       "15  Y  L  L  K  E  R  V  S  [Y, L, L, K, E, R, V, S]\n",
       "18  F  E  A  K  V  P  L  T  [F, E, A, K, V, P, L, T]\n",
       "19  Y  L  S  K  V  T  L  E  [Y, L, S, K, V, T, L, E]"
      ]
     },
     "execution_count": 176,
     "metadata": {},
     "output_type": "execute_result"
    }
   ],
   "source": [
    "smaller"
   ]
  },
  {
   "cell_type": "code",
   "execution_count": 177,
   "metadata": {},
   "outputs": [
    {
     "data": {
      "text/plain": [
       "[I, E, V, K, T, L, V, E]    1\n",
       "[F, V, E, K, R, G, V, T]    1\n",
       "[Y, R, V, K, R, G, I, R]    1\n",
       "[Y, L, L, K, E, R, V, S]    1\n",
       "[Y, I, E, K, R, P, I, S]    1\n",
       "[C, V, R, K, A, R, L, T]    1\n",
       "[W, F, L, K, S, E, V, Q]    1\n",
       "[C, K, Q, K, T, V, I, K]    1\n",
       "[Y, L, Q, K, A, K, L, D]    1\n",
       "[C, Q, D, K, V, Q, I, D]    1\n",
       "[C, Q, E, K, S, Q, I, Q]    1\n",
       "[Y, L, S, K, V, T, L, E]    1\n",
       "[F, Y, R, K, A, P, L, G]    1\n",
       "[Y, V, E, K, R, E, L, A]    1\n",
       "[F, L, Q, K, A, I, L, E]    1\n",
       "[F, E, A, K, V, P, L, T]    1\n",
       "Name: Combined, dtype: int64"
      ]
     },
     "execution_count": 177,
     "metadata": {},
     "output_type": "execute_result"
    }
   ],
   "source": [
    "k"
   ]
  },
  {
   "cell_type": "code",
   "execution_count": 178,
   "metadata": {},
   "outputs": [
    {
     "data": {
      "text/plain": [
       "1    16\n",
       "Name: Combined, dtype: int64"
      ]
     },
     "execution_count": 178,
     "metadata": {},
     "output_type": "execute_result"
    }
   ],
   "source": [
    "m"
   ]
  },
  {
   "cell_type": "code",
   "execution_count": 179,
   "metadata": {},
   "outputs": [
    {
     "data": {
      "text/plain": [
       "16"
      ]
     },
     "execution_count": 179,
     "metadata": {},
     "output_type": "execute_result"
    }
   ],
   "source": [
    "M"
   ]
  },
  {
   "cell_type": "code",
   "execution_count": 180,
   "metadata": {},
   "outputs": [],
   "source": [
    "#converting m into a because an array is much easier to handle\n",
    "a = list(map(list, m.items()))"
   ]
  },
  {
   "cell_type": "code",
   "execution_count": 181,
   "metadata": {},
   "outputs": [
    {
     "data": {
      "text/plain": [
       "[[1, 16]]"
      ]
     },
     "execution_count": 181,
     "metadata": {},
     "output_type": "execute_result"
    }
   ],
   "source": [
    "a"
   ]
  },
  {
   "cell_type": "code",
   "execution_count": 182,
   "metadata": {},
   "outputs": [],
   "source": [
    "#initializing at 0 because it is  a sum\n",
    "H_k = 0\n",
    "#calculating H_k\n",
    "for element in a:\n",
    "    #from the definition of H_k\n",
    "    H_k += ( ( element[0] * element[1] ) / M) * np.log(( element[0] * element[1] ) / M)\n",
    "    \n",
    "H_k = -H_k"
   ]
  },
  {
   "cell_type": "code",
   "execution_count": 183,
   "metadata": {},
   "outputs": [
    {
     "data": {
      "text/plain": [
       "-0.0"
      ]
     },
     "execution_count": 183,
     "metadata": {},
     "output_type": "execute_result"
    }
   ],
   "source": [
    "H_k\n"
   ]
  },
  {
   "cell_type": "code",
   "execution_count": 186,
   "metadata": {},
   "outputs": [],
   "source": [
    "#initializing at 0 \n",
    "H_s =  0\n",
    "for element in a:\n",
    "    H_s +=  ( ( element[0]) / M) * np.log(( element[0]) / M)\n",
    "    \n",
    "    \n",
    "H_s = -H_s\n",
    "\n",
    "    "
   ]
  },
  {
   "cell_type": "code",
   "execution_count": 187,
   "metadata": {},
   "outputs": [
    {
     "data": {
      "text/plain": [
       "0.17328679513998632"
      ]
     },
     "execution_count": 187,
     "metadata": {},
     "output_type": "execute_result"
    }
   ],
   "source": [
    "H_s"
   ]
  },
  {
   "cell_type": "code",
   "execution_count": 202,
   "metadata": {},
   "outputs": [
    {
     "data": {
      "text/plain": [
       "3"
      ]
     },
     "execution_count": 202,
     "metadata": {},
     "output_type": "execute_result"
    }
   ],
   "source": []
  },
  {
   "cell_type": "code",
   "execution_count": null,
   "metadata": {},
   "outputs": [],
   "source": [
    "#combiniamo tutto\n",
    "W = df.iloc[0:20,columns]\n",
    "W = W.rename(columns={x:y for x,y in zip(W.columns,range(0,len(W.columns)))})\n",
    "\n",
    "\n",
    "n = 8\n",
    "\n",
    "#generating random sequence of indexes\n",
    "indexes = random.sample(range(len(W.columns)),n)\n",
    "#generating the complementary array of indexes\n",
    "other_indexes = list(range(0,len(W.columns)))\n",
    "for element in indexes:\n",
    "    if element in other_indexes:\n",
    "        other_indexes.remove(element)\n",
    "\n",
    "\n",
    "#taking the subset of the dataframe\n",
    "smaller = W.iloc[:,indexes]\n",
    "#dropping nan rows\n",
    "smaller = smaller.dropna()\n",
    "\n",
    "#making the list to be evaluated by value_counts\n",
    "smaller['Combined']=smaller.values.tolist()\n",
    "\n",
    "#calculating the parameters for the Entropy\n",
    "#calculating k\n",
    "k = smaller['Combined'].value_counts()\n",
    "#calculating m\n",
    "m = k.value_counts()\n",
    "#calculating M\n",
    "M = k.sum()\n",
    "\n",
    "#converting m into a because an array is much easier to handle\n",
    "a = list(map(list, m.items()))\n",
    "\n",
    "#initializing at 0 because it is  a sum\n",
    "H_k = 0\n",
    "#calculating H_k\n",
    "for element in a:\n",
    "    #from the definition of H_k\n",
    "    H_k += ( ( element[0] * element[1] ) / M) * np.log(( element[0] * element[1] ) / M)\n",
    "    \n",
    "H_k_ref = -H_k\n",
    "indexes_ref = indexes\n",
    "\n",
    "\n",
    "rejects = 0\n",
    "while rejects < 50:\n",
    "    \n",
    "    #swap MUST ADD CONDITION to SEE IF THE SEQUENCE HAS ALREADY BEEN USED\n",
    "    i = random.randint(0,len(indexes))\n",
    "    j = random.randint(0,len(other_indexes))\n",
    "    swap = indexes[i]\n",
    "    indexes[i] = other_indexes[j]\n",
    "    other_indexes[j] = swap\n",
    "    #sorting the lists because it is easier to see if they are not already been used\n",
    "    indexes.sort()\n",
    "    other_indexes.sort()\n",
    "    \n",
    "    smaller = W.iloc[:,indexes]\n",
    "    smaller = smaller.dropna()\n",
    "\n",
    "    smaller['Combined']=smaller.values.tolist()\n",
    "\n",
    "\n",
    "    k = smaller['Combined'].value_counts()\n",
    "    m = k.value_counts()\n",
    "    M = k.sum()\n",
    "\n",
    "    a = list(map(list, m.items()))\n",
    "\n",
    "    H_k = 0\n",
    "    for element in a:\n",
    "        H_k += ( ( element[0] * element[1] ) / M) * np.log(( element[0] * element[1] ) / M)\n",
    "    \n",
    "    H_k = -H_k\n",
    "\n",
    "    #initializing at 0 \n",
    "    H_s =  0\n",
    "    for element in a:\n",
    "        H_s +=  ( ( element[0]) / M) * np.log(( element[0]) / M)\n",
    "    \n",
    "    H_s = -H_s\n",
    "    \n",
    "    if H_k > H_k_ref:\n",
    "        H_k_ref = H_k\n",
    "        indexes_ref = indexes\n",
    "    \n",
    "    else:\n",
    "        rejects += 1\n",
    "    \n",
    "    #MUSt ADD THE DATAFRAME TO SAVE THE RESULTS\n",
    "\n",
    "    "
   ]
  }
 ],
 "metadata": {
  "kernelspec": {
   "display_name": "Python 3",
   "language": "python",
   "name": "python3"
  },
  "language_info": {
   "codemirror_mode": {
    "name": "ipython",
    "version": 3
   },
   "file_extension": ".py",
   "mimetype": "text/x-python",
   "name": "python",
   "nbconvert_exporter": "python",
   "pygments_lexer": "ipython3",
   "version": "3.7.4"
  }
 },
 "nbformat": 4,
 "nbformat_minor": 4
}
